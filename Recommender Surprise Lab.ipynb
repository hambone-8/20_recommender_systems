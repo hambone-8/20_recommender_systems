{
 "cells": [
  {
   "cell_type": "markdown",
   "metadata": {},
   "source": [
    "# Reccomender Systems w/ Surprise\n",
    "From: http://surpriselib.com/\n",
    "\n",
    "Run:  ```!pip install surprise``` in an empy cell to install the surprise package\n",
    "\n",
    "### Overview\n",
    "Surprise is a Python scikit for building and analyzing recommender systems that deal with explicit rating data.\n",
    "Surprise was designed with the following purposes in mind:\n",
    "\n",
    ">Give users perfect control over their experiments. \n",
    "\n",
    "> Alleviate the pain of Dataset handling. Users can use both built-in datasets (Movielens, Jester), and their own custom datasets.\n",
    "\n",
    "\n",
    "> Provide various ready-to-use prediction algorithms such as baseline algorithms, neighborhood methods, matrix factorization-based ( SVD, PMF, SVD++, NMF), and many others. Also, various similarity measures (cosine, MSD, pearson…) are built-in.\n",
    "\n",
    "> Make it easy to implement new algorithm ideas.\n",
    "\n",
    "> Provide tools to evaluate, analyse and compare the algorithms’ performance. Cross-validation procedures can be run very easily using powerful CV iterators (inspired by scikit-learn excellent tools), as well as exhaustive search over a set of parameters."
   ]
  },
  {
   "cell_type": "markdown",
   "metadata": {},
   "source": [
    "## Data & problem"
   ]
  },
  {
   "cell_type": "code",
   "execution_count": 1,
   "metadata": {
    "ExecuteTime": {
     "end_time": "2021-10-14T22:06:59.875855Z",
     "start_time": "2021-10-14T22:06:56.317186Z"
    }
   },
   "outputs": [],
   "source": [
    "from surprise import SVD\n",
    "from surprise import Dataset\n",
    "from surprise import accuracy\n",
    "from surprise.model_selection import train_test_split, KFold, GridSearchCV\n",
    "\n",
    "import pandas as pd\n",
    "import numpy as np"
   ]
  },
  {
   "cell_type": "code",
   "execution_count": 2,
   "metadata": {
    "ExecuteTime": {
     "end_time": "2021-10-14T22:07:03.673452Z",
     "start_time": "2021-10-14T22:07:03.285232Z"
    }
   },
   "outputs": [],
   "source": [
    "data = Dataset.load_builtin(name='ml-100k')"
   ]
  },
  {
   "cell_type": "markdown",
   "metadata": {},
   "source": [
    "### Explore your data"
   ]
  },
  {
   "cell_type": "code",
   "execution_count": null,
   "metadata": {
    "ExecuteTime": {
     "end_time": "2021-10-14T14:12:08.627741Z",
     "start_time": "2021-10-14T14:12:08.621775Z"
    }
   },
   "outputs": [],
   "source": []
  },
  {
   "cell_type": "markdown",
   "metadata": {},
   "source": [
    "### Split your data into test and train"
   ]
  },
  {
   "cell_type": "code",
   "execution_count": 3,
   "metadata": {
    "ExecuteTime": {
     "end_time": "2021-10-14T22:07:46.714644Z",
     "start_time": "2021-10-14T22:07:46.498090Z"
    }
   },
   "outputs": [],
   "source": [
    "train_data, test_data = train_test_split(data, test_size=.25)"
   ]
  },
  {
   "cell_type": "markdown",
   "metadata": {},
   "source": [
    "### Fit a model to the data"
   ]
  },
  {
   "cell_type": "code",
   "execution_count": 4,
   "metadata": {
    "ExecuteTime": {
     "end_time": "2021-10-14T22:09:11.121029Z",
     "start_time": "2021-10-14T22:09:05.066782Z"
    }
   },
   "outputs": [],
   "source": [
    "algo = SVD()\n",
    "algo.fit(train_data)\n",
    "predictions = algo.test(test_data)\n"
   ]
  },
  {
   "cell_type": "markdown",
   "metadata": {},
   "source": [
    "### Evaluate your results"
   ]
  },
  {
   "cell_type": "code",
   "execution_count": 5,
   "metadata": {
    "ExecuteTime": {
     "end_time": "2021-10-14T22:09:17.418876Z",
     "start_time": "2021-10-14T22:09:17.325968Z"
    }
   },
   "outputs": [
    {
     "name": "stdout",
     "output_type": "stream",
     "text": [
      "RMSE: 0.9405\n"
     ]
    },
    {
     "data": {
      "text/plain": [
       "0.9405066075770725"
      ]
     },
     "execution_count": 5,
     "metadata": {},
     "output_type": "execute_result"
    }
   ],
   "source": [
    "# Then compute RMSE\n",
    "accuracy.rmse(predictions)\n",
    "#"
   ]
  },
  {
   "cell_type": "code",
   "execution_count": 6,
   "metadata": {
    "ExecuteTime": {
     "end_time": "2021-10-14T22:12:17.777600Z",
     "start_time": "2021-10-14T22:11:21.398798Z"
    }
   },
   "outputs": [
    {
     "name": "stdout",
     "output_type": "stream",
     "text": [
      "RMSE: 0.9317\n",
      "RMSE: 0.9375\n",
      "RMSE: 0.9359\n",
      "RMSE: 0.9351\n",
      "RMSE: 0.9363\n"
     ]
    }
   ],
   "source": [
    "# Use Cross-validation\n",
    "# define a cross-validation iterator\n",
    "kf = KFold(n_splits=5)\n",
    "\n",
    "algo = SVD()\n",
    "\n",
    "rmse_array = []\n",
    "for train_data, test_data in kf.split(data):\n",
    "\n",
    "    # train and test algorithm.\n",
    "    algo.fit(train_data)\n",
    "    predictions = algo.test(test_data)\n",
    "\n",
    "    # Compute and print Root Mean Squared Error\n",
    "    rmse = accuracy.rmse(predictions, verbose=True)\n",
    "    rmse_array.append(rmse)"
   ]
  },
  {
   "cell_type": "code",
   "execution_count": 7,
   "metadata": {
    "ExecuteTime": {
     "end_time": "2021-10-14T22:12:41.897697Z",
     "start_time": "2021-10-14T22:12:41.865280Z"
    }
   },
   "outputs": [
    {
     "data": {
      "text/plain": [
       "0.9352897458779422"
      ]
     },
     "execution_count": 7,
     "metadata": {},
     "output_type": "execute_result"
    }
   ],
   "source": [
    "# Avg RMSE\n",
    "np.mean(rmse_array)"
   ]
  },
  {
   "cell_type": "code",
   "execution_count": 8,
   "metadata": {
    "ExecuteTime": {
     "end_time": "2021-10-14T22:12:55.897939Z",
     "start_time": "2021-10-14T22:12:55.863535Z"
    }
   },
   "outputs": [
    {
     "data": {
      "text/plain": [
       "0.9317384560096411"
      ]
     },
     "execution_count": 8,
     "metadata": {},
     "output_type": "execute_result"
    }
   ],
   "source": [
    "#Min RMSE\n",
    "np.min(rmse_array)"
   ]
  },
  {
   "cell_type": "code",
   "execution_count": 9,
   "metadata": {
    "ExecuteTime": {
     "end_time": "2021-10-14T22:25:28.863742Z",
     "start_time": "2021-10-14T22:23:22.903022Z"
    }
   },
   "outputs": [
    {
     "name": "stdout",
     "output_type": "stream",
     "text": [
      "0.9634328553809479\n",
      "{'n_epochs': 10, 'lr_all': 0.005, 'reg_all': 0.4}\n"
     ]
    }
   ],
   "source": [
    "# Try using gridsearch\n",
    "\n",
    "# Define the parameter array\n",
    "param_grid = {'n_epochs': [5, 10], 'lr_all': [0.002, 0.005],\n",
    "              'reg_all': [0.4, 0.6]}\n",
    "\n",
    "gs = GridSearchCV(SVD, param_grid, measures=['rmse', 'mae'], cv=3)\n",
    "\n",
    "gs.fit(data)\n",
    "\n",
    "# best RMSE score\n",
    "print(gs.best_score['rmse'])\n",
    "\n",
    "# combination of parameters that gave the best RMSE score\n",
    "print(gs.best_params['rmse'])"
   ]
  },
  {
   "cell_type": "code",
   "execution_count": null,
   "metadata": {},
   "outputs": [],
   "source": []
  }
 ],
 "metadata": {
  "kernelspec": {
   "display_name": "Python 3",
   "language": "python",
   "name": "python3"
  },
  "language_info": {
   "codemirror_mode": {
    "name": "ipython",
    "version": 3
   },
   "file_extension": ".py",
   "mimetype": "text/x-python",
   "name": "python",
   "nbconvert_exporter": "python",
   "pygments_lexer": "ipython3",
   "version": "3.7.3"
  },
  "toc": {
   "base_numbering": 1,
   "nav_menu": {},
   "number_sections": false,
   "sideBar": true,
   "skip_h1_title": false,
   "title_cell": "Table of Contents",
   "title_sidebar": "Contents",
   "toc_cell": false,
   "toc_position": {},
   "toc_section_display": true,
   "toc_window_display": false
  }
 },
 "nbformat": 4,
 "nbformat_minor": 4
}
